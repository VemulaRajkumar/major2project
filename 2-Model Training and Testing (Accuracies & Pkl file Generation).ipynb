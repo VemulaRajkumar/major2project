{
 "cells": [
  {
   "cell_type": "code",
   "execution_count": 1,
   "metadata": {},
   "outputs": [],
   "source": [
    "import pandas as pd\n",
    "import numpy as np\n",
    "import warnings\n",
    "from sklearn.model_selection import train_test_split\n",
    "from sklearn.metrics import confusion_matrix, accuracy_score\n",
    "import pickle\n",
    "from sklearn.linear_model import LogisticRegression\n",
    "from sklearn.ensemble import RandomForestClassifier\n",
    "from sklearn.svm import SVC\n",
    "warnings.filterwarnings(\"ignore\")"
   ]
  },
  {
   "cell_type": "code",
   "execution_count": 2,
   "metadata": {},
   "outputs": [
    {
     "data": {
      "text/html": [
       "<div>\n",
       "<style scoped>\n",
       "    .dataframe tbody tr th:only-of-type {\n",
       "        vertical-align: middle;\n",
       "    }\n",
       "\n",
       "    .dataframe tbody tr th {\n",
       "        vertical-align: top;\n",
       "    }\n",
       "\n",
       "    .dataframe thead th {\n",
       "        text-align: right;\n",
       "    }\n",
       "</style>\n",
       "<table border=\"1\" class=\"dataframe\">\n",
       "  <thead>\n",
       "    <tr style=\"text-align: right;\">\n",
       "      <th></th>\n",
       "      <th>N</th>\n",
       "      <th>P</th>\n",
       "      <th>K</th>\n",
       "      <th>temperature</th>\n",
       "      <th>humidity</th>\n",
       "      <th>ph</th>\n",
       "      <th>rainfall</th>\n",
       "      <th>label</th>\n",
       "      <th>Yield</th>\n",
       "      <th>Watering</th>\n",
       "      <th>Pesticide</th>\n",
       "    </tr>\n",
       "  </thead>\n",
       "  <tbody>\n",
       "    <tr>\n",
       "      <th>0</th>\n",
       "      <td>90</td>\n",
       "      <td>42.0</td>\n",
       "      <td>43.0</td>\n",
       "      <td>20.879744</td>\n",
       "      <td>82.002744</td>\n",
       "      <td>6.502985</td>\n",
       "      <td>203.983200</td>\n",
       "      <td>rice</td>\n",
       "      <td>22-25 quintals per acre</td>\n",
       "      <td>10 mm per day</td>\n",
       "      <td>Lambda-cyhalothrin, malathion and zeta-cyperme...</td>\n",
       "    </tr>\n",
       "    <tr>\n",
       "      <th>1</th>\n",
       "      <td>85</td>\n",
       "      <td>58.0</td>\n",
       "      <td>41.0</td>\n",
       "      <td>22.000940</td>\n",
       "      <td>80.319644</td>\n",
       "      <td>7.038096</td>\n",
       "      <td>226.655537</td>\n",
       "      <td>rice</td>\n",
       "      <td>22-25 quintals per acre</td>\n",
       "      <td>10 mm per day</td>\n",
       "      <td>Lambda-cyhalothrin, malathion and zeta-cyperme...</td>\n",
       "    </tr>\n",
       "    <tr>\n",
       "      <th>2</th>\n",
       "      <td>60</td>\n",
       "      <td>55.0</td>\n",
       "      <td>44.0</td>\n",
       "      <td>23.004459</td>\n",
       "      <td>82.320763</td>\n",
       "      <td>7.840207</td>\n",
       "      <td>263.964248</td>\n",
       "      <td>rice</td>\n",
       "      <td>22-25 quintals per acre</td>\n",
       "      <td>10 mm per day</td>\n",
       "      <td>Lambda-cyhalothrin, malathion and zeta-cyperme...</td>\n",
       "    </tr>\n",
       "    <tr>\n",
       "      <th>3</th>\n",
       "      <td>74</td>\n",
       "      <td>35.0</td>\n",
       "      <td>40.0</td>\n",
       "      <td>26.491096</td>\n",
       "      <td>80.158363</td>\n",
       "      <td>6.980401</td>\n",
       "      <td>242.864034</td>\n",
       "      <td>rice</td>\n",
       "      <td>22-25 quintals per acre</td>\n",
       "      <td>10 mm per day</td>\n",
       "      <td>Lambda-cyhalothrin, malathion and zeta-cyperme...</td>\n",
       "    </tr>\n",
       "    <tr>\n",
       "      <th>4</th>\n",
       "      <td>78</td>\n",
       "      <td>42.0</td>\n",
       "      <td>42.0</td>\n",
       "      <td>20.130175</td>\n",
       "      <td>81.604873</td>\n",
       "      <td>7.628473</td>\n",
       "      <td>262.717340</td>\n",
       "      <td>rice</td>\n",
       "      <td>22-25 quintals per acre</td>\n",
       "      <td>10 mm per day</td>\n",
       "      <td>Lambda-cyhalothrin, malathion and zeta-cyperme...</td>\n",
       "    </tr>\n",
       "    <tr>\n",
       "      <th>...</th>\n",
       "      <td>...</td>\n",
       "      <td>...</td>\n",
       "      <td>...</td>\n",
       "      <td>...</td>\n",
       "      <td>...</td>\n",
       "      <td>...</td>\n",
       "      <td>...</td>\n",
       "      <td>...</td>\n",
       "      <td>...</td>\n",
       "      <td>...</td>\n",
       "      <td>...</td>\n",
       "    </tr>\n",
       "    <tr>\n",
       "      <th>2195</th>\n",
       "      <td>107</td>\n",
       "      <td>34.0</td>\n",
       "      <td>32.0</td>\n",
       "      <td>26.774637</td>\n",
       "      <td>66.413269</td>\n",
       "      <td>6.780064</td>\n",
       "      <td>NaN</td>\n",
       "      <td>coffee</td>\n",
       "      <td>4 to 7 quintals per hectare</td>\n",
       "      <td>1200 to 1800 mm per year</td>\n",
       "      <td>White stem borer, coffee berry borer, Shoot ho...</td>\n",
       "    </tr>\n",
       "    <tr>\n",
       "      <th>2196</th>\n",
       "      <td>99</td>\n",
       "      <td>15.0</td>\n",
       "      <td>27.0</td>\n",
       "      <td>27.417112</td>\n",
       "      <td>56.636362</td>\n",
       "      <td>6.086922</td>\n",
       "      <td>127.924610</td>\n",
       "      <td>coffee</td>\n",
       "      <td>4 to 7 quintals per hectare</td>\n",
       "      <td>1200 to 1800 mm per year</td>\n",
       "      <td>White stem borer, coffee berry borer, Shoot ho...</td>\n",
       "    </tr>\n",
       "    <tr>\n",
       "      <th>2197</th>\n",
       "      <td>118</td>\n",
       "      <td>33.0</td>\n",
       "      <td>30.0</td>\n",
       "      <td>24.131797</td>\n",
       "      <td>67.225123</td>\n",
       "      <td>6.362608</td>\n",
       "      <td>173.322839</td>\n",
       "      <td>coffee</td>\n",
       "      <td>4 to 7 quintals per hectare</td>\n",
       "      <td>1200 to 1800 mm per year</td>\n",
       "      <td>White stem borer, coffee berry borer, Shoot ho...</td>\n",
       "    </tr>\n",
       "    <tr>\n",
       "      <th>2198</th>\n",
       "      <td>117</td>\n",
       "      <td>32.0</td>\n",
       "      <td>34.0</td>\n",
       "      <td>26.272418</td>\n",
       "      <td>52.127394</td>\n",
       "      <td>6.758793</td>\n",
       "      <td>127.175293</td>\n",
       "      <td>coffee</td>\n",
       "      <td>4 to 7 quintals per hectare</td>\n",
       "      <td>1200 to 1800 mm per year</td>\n",
       "      <td>White stem borer, coffee berry borer, Shoot ho...</td>\n",
       "    </tr>\n",
       "    <tr>\n",
       "      <th>2199</th>\n",
       "      <td>104</td>\n",
       "      <td>18.0</td>\n",
       "      <td>30.0</td>\n",
       "      <td>23.603016</td>\n",
       "      <td>60.396475</td>\n",
       "      <td>6.779833</td>\n",
       "      <td>140.937041</td>\n",
       "      <td>coffee</td>\n",
       "      <td>4 to 7 quintals per hectare</td>\n",
       "      <td>1200 to 1800 mm per year</td>\n",
       "      <td>White stem borer, coffee berry borer, Shoot ho...</td>\n",
       "    </tr>\n",
       "  </tbody>\n",
       "</table>\n",
       "<p>2200 rows × 11 columns</p>\n",
       "</div>"
      ],
      "text/plain": [
       "        N     P     K  temperature   humidity        ph    rainfall   label  \\\n",
       "0      90  42.0  43.0    20.879744  82.002744  6.502985  203.983200    rice   \n",
       "1      85  58.0  41.0    22.000940  80.319644  7.038096  226.655537    rice   \n",
       "2      60  55.0  44.0    23.004459  82.320763  7.840207  263.964248    rice   \n",
       "3      74  35.0  40.0    26.491096  80.158363  6.980401  242.864034    rice   \n",
       "4      78  42.0  42.0    20.130175  81.604873  7.628473  262.717340    rice   \n",
       "...   ...   ...   ...          ...        ...       ...         ...     ...   \n",
       "2195  107  34.0  32.0    26.774637  66.413269  6.780064         NaN  coffee   \n",
       "2196   99  15.0  27.0    27.417112  56.636362  6.086922  127.924610  coffee   \n",
       "2197  118  33.0  30.0    24.131797  67.225123  6.362608  173.322839  coffee   \n",
       "2198  117  32.0  34.0    26.272418  52.127394  6.758793  127.175293  coffee   \n",
       "2199  104  18.0  30.0    23.603016  60.396475  6.779833  140.937041  coffee   \n",
       "\n",
       "                             Yield                  Watering  \\\n",
       "0         22-25 quintals per acre              10 mm per day   \n",
       "1         22-25 quintals per acre              10 mm per day   \n",
       "2         22-25 quintals per acre              10 mm per day   \n",
       "3         22-25 quintals per acre              10 mm per day   \n",
       "4         22-25 quintals per acre              10 mm per day   \n",
       "...                            ...                       ...   \n",
       "2195   4 to 7 quintals per hectare  1200 to 1800 mm per year   \n",
       "2196   4 to 7 quintals per hectare  1200 to 1800 mm per year   \n",
       "2197   4 to 7 quintals per hectare  1200 to 1800 mm per year   \n",
       "2198   4 to 7 quintals per hectare  1200 to 1800 mm per year   \n",
       "2199   4 to 7 quintals per hectare  1200 to 1800 mm per year   \n",
       "\n",
       "                                              Pesticide  \n",
       "0     Lambda-cyhalothrin, malathion and zeta-cyperme...  \n",
       "1     Lambda-cyhalothrin, malathion and zeta-cyperme...  \n",
       "2     Lambda-cyhalothrin, malathion and zeta-cyperme...  \n",
       "3     Lambda-cyhalothrin, malathion and zeta-cyperme...  \n",
       "4     Lambda-cyhalothrin, malathion and zeta-cyperme...  \n",
       "...                                                 ...  \n",
       "2195  White stem borer, coffee berry borer, Shoot ho...  \n",
       "2196  White stem borer, coffee berry borer, Shoot ho...  \n",
       "2197  White stem borer, coffee berry borer, Shoot ho...  \n",
       "2198  White stem borer, coffee berry borer, Shoot ho...  \n",
       "2199  White stem borer, coffee berry borer, Shoot ho...  \n",
       "\n",
       "[2200 rows x 11 columns]"
      ]
     },
     "execution_count": 2,
     "metadata": {},
     "output_type": "execute_result"
    }
   ],
   "source": [
    "data = pd.read_csv('Dataset.csv')\n",
    "data"
   ]
  },
  {
   "cell_type": "code",
   "execution_count": 3,
   "metadata": {},
   "outputs": [],
   "source": [
    "data.dropna(inplace=True)"
   ]
  },
  {
   "cell_type": "code",
   "execution_count": 4,
   "metadata": {},
   "outputs": [
    {
     "name": "stdout",
     "output_type": "stream",
     "text": [
      "rice ['22-25 quintals per acre ']\n",
      "maize ['10-20 quintals per acre']\n",
      "chickpea ['8-10 quintals per acre']\n",
      "kidneybeans ['7-8 quintals per acre']\n",
      "pigeonpeas ['6-8 quintals per acre']\n",
      "mothbeans ['12-25 quintals per acre']\n",
      "mungbean ['5-6 quintals per acre']\n",
      "blackgram ['7-8 quintals per acre']\n",
      "lentil ['15-20 quintals per acre']\n",
      "pomegranate ['80 quintals per acre']\n",
      "banana ['180 quintals per acre']\n",
      "mango ['2.5 to 3 tonnes per acre']\n",
      "grapes ['20 to 25 tonnes per acre']\n",
      "watermelon ['30 to 45 tonnes per acre ']\n",
      "muskmelon ['12 to 15 tonnes per hectare']\n",
      "apple ['54 to 67 quintals per acre']\n",
      "orange ['27 quintals per hectare']\n",
      "papaya ['75 to 100 tonnes per hectare']\n",
      "coconut ['2000 to 3000 nuts per acre']\n",
      "cotton ['40 to 50 quintals per acre ']\n",
      "jute ['45 to 50 tonnes per hectare']\n",
      "coffee [' 4 to 7 quintals per hectare']\n"
     ]
    }
   ],
   "source": [
    "for item in data['label'].unique():\n",
    "\tprint(item, data[data['label']==item]['Yield'].unique())"
   ]
  },
  {
   "attachments": {},
   "cell_type": "markdown",
   "metadata": {},
   "source": [
    "Yield value is same for each label so it does not need to be predicted"
   ]
  },
  {
   "cell_type": "code",
   "execution_count": 5,
   "metadata": {},
   "outputs": [
    {
     "name": "stdout",
     "output_type": "stream",
     "text": [
      "rice ['10 mm per day']\n",
      "maize ['2.5 to 4.2 mm per day']\n",
      "chickpea ['10 mm per day']\n",
      "kidneybeans ['300 to 500 mm off 6-7 times/growth period']\n",
      "pigeonpeas ['200-250mm']\n",
      "mothbeans ['500-750 mm']\n",
      "mungbean ['50mm of 3 to 5 waterings during the growing condition']\n",
      "blackgram ['200 to 300 mm with an interval of 7 to 10 days']\n",
      "lentil ['150 to 250 mm ']\n",
      "pomegranate ['5.3 mm per day']\n",
      "banana ['1800 to 2000 mm per annum with an interval ot 7 to 8 days']\n",
      "mango ['25mm per week']\n",
      "grapes ['25mm per week']\n",
      "watermelon ['500mm per week']\n",
      "muskmelon ['400 to 600 mm per totoal crop periodd']\n",
      "apple ['25 mm with an interval of 7 to 10 days']\n",
      "orange ['35 to 105 litres per plant ']\n",
      "papaya ['20 to 25 litres per plant in every 2 weeks']\n",
      "coconut ['40 to 200 litres per tree in every 4 days']\n",
      "cotton ['700 to 1000 mm for total crop period']\n",
      "jute ['500 mm for the total crop period with an interval of 15 days']\n",
      "coffee ['1200 to 1800 mm per year']\n"
     ]
    }
   ],
   "source": [
    "for item in data['label'].unique():\n",
    "\tprint(item, data[data['label']==item]['Watering'].unique())"
   ]
  },
  {
   "attachments": {},
   "cell_type": "markdown",
   "metadata": {},
   "source": [
    "Watering value is the same for each label so it does not need to be predicted"
   ]
  },
  {
   "cell_type": "code",
   "execution_count": 6,
   "metadata": {},
   "outputs": [
    {
     "name": "stdout",
     "output_type": "stream",
     "text": [
      "rice ['Lambda-cyhalothrin, malathion and zeta-cypermethrin']\n",
      "maize ['Methyl demeton 25 EC 500 ml/ha. Carbofuran 3%CG 33.3 kg/ha. Dimethoate 30%EC 1155 ml/ha. Methyl demeton 25% EC 1000 ml/ha. Phorate 10%CG 10 kg/ha.']\n",
      "chickpea ['Foliar spray of 2% urea, Pendimethalin 30% EC, Chlorpyriphos insecticide'\n",
      " 'Foliar spray of 2% urea, Pendimethalin L30030% EC, Chlorpyriphos insecticide']\n",
      "kidneybeans ['glyphosate, 1.5% dieldrin with 3% aramite,  2% parathion']\n",
      "pigeonpeas ['pod borer, pod borer complex, pod fly']\n",
      "mothbeans ['pendimethalin 30%, imazamox 50 g/ ha']\n",
      "mungbean ['diafenthiuron 50 wp, acetamiprid 20 sp']\n",
      "blackgram ['Dimethoate 30% EC, Methyl demeton 25%EC, Imidacloprid 17.8 SL']\n",
      "lentil ['Paraquat, diquat or glyphosate']\n",
      "pomegranate ['Dimethoate (0.03%) or Malathion (0.1%) ']\n",
      "banana ['carbaryl (1g/liter) or chlorpyriphos (2.5 ml/lit)']\n",
      "mango ['0.15% Carbaryl or 0.04% Monocrotophos or 0.05% Phosphamidon or 0.05% Methyl Parathion']\n",
      "grapes ['Imidacloprid, fluazinam ,  fludioxonil']\n",
      "watermelon ['chlorothalonil, tebuconazole, Inspire Super']\n",
      "muskmelon ['Quinalphos powder, Dichlorvos 76% EC']\n",
      "apple ['thiophthalimide']\n",
      "orange ['dimethoate, fenitrothion or pyrethroids']\n",
      "papaya ['Imidacloprid 17.8 %, Spinosad 480 SC']\n",
      "coconut ['Malathion 50 EC 2 ml/lit, Dimethoate 30 EC 1 ml/lit']\n",
      "cotton ['aldicarb, phorate, methamidophos and endosulfan.']\n",
      "jute ['Carbofuran 03.00% CG, Phosalone 35.00% EC, Quinalphos 25.00% EC']\n",
      "coffee ['White stem borer, coffee berry borer, Shoot hole borer, MALATHION 50% E.C']\n"
     ]
    }
   ],
   "source": [
    "for item in data['label'].unique():\n",
    "\tprint(item, data[data['label']==item]['Pesticide'].unique())"
   ]
  },
  {
   "attachments": {},
   "cell_type": "markdown",
   "metadata": {},
   "source": [
    "Pesicide is also same for each label so it does not need to be predicted"
   ]
  },
  {
   "cell_type": "code",
   "execution_count": 7,
   "metadata": {},
   "outputs": [],
   "source": [
    "crops = {}\n",
    "for item in data['label'].unique():\n",
    "\tval = data[data['label'] == item]\n",
    "\tcrops[item] = list(val.iloc[0][-3:])\n",
    "\n",
    "f = open('cropsDict.pkl', 'wb')\n",
    "pickle.dump(crops, f)\n",
    "f.close()"
   ]
  },
  {
   "cell_type": "code",
   "execution_count": 8,
   "metadata": {},
   "outputs": [],
   "source": [
    "x = data.drop(['Watering', 'Yield', 'Pesticide', 'label'], axis=1).to_numpy()\n",
    "y = data[['label']].to_numpy()\n",
    "xtrain, xtest, ytrain, ytest = train_test_split(x, y, test_size=0.2, random_state=101)"
   ]
  },
  {
   "cell_type": "code",
   "execution_count": 9,
   "metadata": {},
   "outputs": [],
   "source": [
    "lr = LogisticRegression()\n",
    "lr.fit(xtrain, ytrain)\n",
    "f = open('logisticRegression.pkl', 'wb')\n",
    "pickle.dump(lr, f)\n",
    "f.close()"
   ]
  },
  {
   "cell_type": "code",
   "execution_count": 10,
   "metadata": {},
   "outputs": [
    {
     "name": "stdout",
     "output_type": "stream",
     "text": [
      "Training Data Metrics :\n",
      "Confusion Matrix :\n",
      "[[73  0  0  0  0  0  0  0  0  0  0  0  0  0  0  0  0  0  0  0  0  0]\n",
      " [ 0 81  0  0  0  0  0  0  0  0  0  0  0  0  0  0  0  0  0  0  0  0]\n",
      " [ 0  0 64  0  0  0  0  0  0  0  0  1  0  6  0  0  0  0  0  0  0  0]\n",
      " [ 0  0  0 75  0  0  0  0  0  0  0  0  0  0  0  0  0  0  0  0  0  0]\n",
      " [ 0  0  0  0 79  0  0  0  0  0  0  0  0  0  0  0  0  0  0  0  0  0]\n",
      " [ 0  0  0  0  0 67  0  0  0  0  0  0  0  0  0  0  0  0  0  0  0  0]\n",
      " [ 0  0  0  0  0  0 69  0  0  0  0  4  0  0  0  0  0  0  0  0  0  0]\n",
      " [ 0  0  0  0  0  0  0 66  0  0  0  0  0  0  0  0  0  0  0  0  0  0]\n",
      " [ 0  0  0  0  0  1  0  0 68  0  0  0  0  0  0  0  0  0  0  0  7  0]\n",
      " [ 0  0  0  0  0  0  0  0  0 72  0  0  0  0  0  0  0  0  0  0  0  0]\n",
      " [ 0  0  2  0  0  0  0  0  0  0 76  0  0  1  0  0  0  0  0  0  0  0]\n",
      " [ 0  0  0  0  0  0  9  0  0  0  0 65  0  0  0  0  0  0  0  0  0  0]\n",
      " [ 0  0  0  0  0  0  0  0  0  0  0  0 80  0  0  0  0  0  0  0  0  0]\n",
      " [ 0  0  6  0  0  0  0  0  0  0  1  0  0 62  1  0  0  0  0  0  0  0]\n",
      " [ 0  0  0  0  0  0  0  0  0  0  2  0  0  0 74  0  0  0  0  0  0  0]\n",
      " [ 0  0  0  0  0  0  0  0  0  0  0  0  0  0  0 79  0  0  0  0  0  0]\n",
      " [ 0  0  0  0  0  0  0  0  0  0  0  0  0  0  0  0 81  0  0  0  0  0]\n",
      " [ 0  0  0  0  0  0  0  0  0  0  0  0  0  1  0  0  0 74  0  0  0  0]\n",
      " [ 0  0  0  0  0  0  0  0  0  0  0  0  0  0  0  0  0  0 84  0  0  0]\n",
      " [ 0  0  0  0  0  0  0  0  0  0  0  0  0  0  0  0  0  0  0 71  0  0]\n",
      " [ 0  0  0  0  0  0  0  0 10  0  0  0  0  0  0  0  0  0  0  0 71  0]\n",
      " [ 0  0  0  0  0  0  0  0  0  0  0  0  0  0  0  0  0  0  0  0  0 80]]\n",
      "Accuracy : 0.9687312086590499\n"
     ]
    }
   ],
   "source": [
    "print('Training Data Metrics :\\nConfusion Matrix :')\n",
    "print(confusion_matrix(ytrain, lr.predict(xtrain)))\n",
    "print('Accuracy :', accuracy_score(ytrain, lr.predict(xtrain)))"
   ]
  },
  {
   "cell_type": "code",
   "execution_count": 11,
   "metadata": {},
   "outputs": [
    {
     "name": "stdout",
     "output_type": "stream",
     "text": [
      "Testing Data Metrics :\n",
      "Confusion Matrix :\n",
      "[[23  0  0  0  0  0  0  0  0  0  0  0  0  0  0  0  0  0  0  0  0  0]\n",
      " [ 0 19  0  0  0  0  0  0  0  0  0  0  0  0  0  0  0  0  0  0  0  0]\n",
      " [ 0  0 18  0  0  0  0  0  0  0  1  0  0  0  0  0  0  0  0  0  0  0]\n",
      " [ 0  0  0 18  0  0  0  0  0  0  0  0  0  0  0  0  0  0  0  0  0  0]\n",
      " [ 0  0  0  0 15  0  0  0  0  0  0  0  0  0  0  0  0  0  0  1  0  0]\n",
      " [ 0  0  0  0  0 23  0  0  0  0  0  0  0  0  0  0  0  0  0  0  0  0]\n",
      " [ 0  0  0  0  0  0 21  0  0  0  0  0  0  0  0  0  0  0  0  0  0  0]\n",
      " [ 0  0  0  0  0  0  0 30  0  0  0  0  0  0  0  0  0  0  0  0  0  0]\n",
      " [ 0  0  0  0  0  0  0  0 13  0  0  0  0  0  0  0  0  2  0  0  1  0]\n",
      " [ 0  0  0  0  0  0  0  0  0 20  0  0  0  0  0  0  0  0  0  0  0  0]\n",
      " [ 0  0  0  0  0  0  0  0  0  0 10  0  0  0  0  0  0  0  0  0  0  0]\n",
      " [ 0  0  0  0  0  0  3  0  0  0  0 19  0  0  0  0  0  0  0  0  0  0]\n",
      " [ 0  0  0  0  0  0  0  0  0  0  0  0 19  0  0  0  0  0  0  0  0  0]\n",
      " [ 0  0  3  0  0  0  0  0  0  0  0  0  0 15  2  0  0  0  0  0  0  0]\n",
      " [ 0  0  0  0  0  0  0  0  0  0  0  0  0  0 13  0  0  0  0  0  0  0]\n",
      " [ 0  0  0  0  0  0  0  0  0  0  0  0  0  0  0 17  0  0  0  0  0  0]\n",
      " [ 0  0  0  0  0  0  0  0  0  0  0  0  0  0  0  0 17  0  0  0  0  0]\n",
      " [ 0  0  0  0  0  0  0  0  0  0  0  0  2  1  0  0  0 17  0  0  1  0]\n",
      " [ 0  0  1  0  0  0  0  0  0  0  0  0  0  0  0  0  0  0 11  0  0  0]\n",
      " [ 0  0  0  0  0  0  0  0  0  0  0  0  0  0  0  0  0  0  0 24  0  0]\n",
      " [ 0  0  0  0  0  0  0  0  1  0  0  0  0  0  0  0  0  0  0  0 18  0]\n",
      " [ 0  0  0  0  0  0  0  0  0  0  0  0  0  0  0  0  0  0  0  0  0 17]]\n",
      "Accuracy : 0.9543269230769231\n"
     ]
    }
   ],
   "source": [
    "print('Testing Data Metrics :\\nConfusion Matrix :')\n",
    "print(confusion_matrix(ytest, lr.predict(xtest)))\n",
    "print('Accuracy :', accuracy_score(ytest, lr.predict(xtest)))"
   ]
  },
  {
   "cell_type": "code",
   "execution_count": 12,
   "metadata": {},
   "outputs": [
    {
     "name": "stdout",
     "output_type": "stream",
     "text": [
      "Crop : rice\n",
      "Yield : 22-25 quintals per acre \n",
      "Watering : 10 mm per day\n",
      "Pesticide : Lambda-cyhalothrin, malathion and zeta-cypermethrin\n"
     ]
    }
   ],
   "source": [
    "# Logistic Regression Inputs\n",
    "\n",
    "n = int(input('Enter N Value : '))\n",
    "p = float(input('Enter P Value : '))\n",
    "k = float(input('Enter K Value : '))\n",
    "temp = float(input('Enter temperature : '))\n",
    "humidity = float(input('Enter humidity : '))\n",
    "ph = float(input('Enter ph : '))\n",
    "rain = float(input('Enter rainfall : '))\n",
    "\n",
    "inp = np.array([n, p, k, temp, humidity, ph, rain]).reshape(-1, 7)\n",
    "output = lr.predict(inp)[0]\n",
    "print('Crop :', output)\n",
    "print('Yield :', crops[output][0])\n",
    "print('Watering :', crops[output][1])\n",
    "print('Pesticide :', crops[output][2])"
   ]
  },
  {
   "cell_type": "code",
   "execution_count": 13,
   "metadata": {},
   "outputs": [],
   "source": [
    "rfc = RandomForestClassifier()\n",
    "rfc.fit(xtrain, ytrain)\n",
    "f = open('randomForestClassifier.pkl', 'wb')\n",
    "pickle.dump(rfc, f)\n",
    "f.close()"
   ]
  },
  {
   "cell_type": "code",
   "execution_count": 14,
   "metadata": {},
   "outputs": [
    {
     "name": "stdout",
     "output_type": "stream",
     "text": [
      "Training Data Metrics :\n",
      "Confusion Matrix :\n",
      "[[73  0  0  0  0  0  0  0  0  0  0  0  0  0  0  0  0  0  0  0  0  0]\n",
      " [ 0 81  0  0  0  0  0  0  0  0  0  0  0  0  0  0  0  0  0  0  0  0]\n",
      " [ 0  0 71  0  0  0  0  0  0  0  0  0  0  0  0  0  0  0  0  0  0  0]\n",
      " [ 0  0  0 75  0  0  0  0  0  0  0  0  0  0  0  0  0  0  0  0  0  0]\n",
      " [ 0  0  0  0 79  0  0  0  0  0  0  0  0  0  0  0  0  0  0  0  0  0]\n",
      " [ 0  0  0  0  0 67  0  0  0  0  0  0  0  0  0  0  0  0  0  0  0  0]\n",
      " [ 0  0  0  0  0  0 73  0  0  0  0  0  0  0  0  0  0  0  0  0  0  0]\n",
      " [ 0  0  0  0  0  0  0 66  0  0  0  0  0  0  0  0  0  0  0  0  0  0]\n",
      " [ 0  0  0  0  0  0  0  0 76  0  0  0  0  0  0  0  0  0  0  0  0  0]\n",
      " [ 0  0  0  0  0  0  0  0  0 72  0  0  0  0  0  0  0  0  0  0  0  0]\n",
      " [ 0  0  0  0  0  0  0  0  0  0 79  0  0  0  0  0  0  0  0  0  0  0]\n",
      " [ 0  0  0  0  0  0  0  0  0  0  0 74  0  0  0  0  0  0  0  0  0  0]\n",
      " [ 0  0  0  0  0  0  0  0  0  0  0  0 80  0  0  0  0  0  0  0  0  0]\n",
      " [ 0  0  0  0  0  0  0  0  0  0  0  0  0 70  0  0  0  0  0  0  0  0]\n",
      " [ 0  0  0  0  0  0  0  0  0  0  0  0  0  0 76  0  0  0  0  0  0  0]\n",
      " [ 0  0  0  0  0  0  0  0  0  0  0  0  0  0  0 79  0  0  0  0  0  0]\n",
      " [ 0  0  0  0  0  0  0  0  0  0  0  0  0  0  0  0 81  0  0  0  0  0]\n",
      " [ 0  0  0  0  0  0  0  0  0  0  0  0  0  0  0  0  0 75  0  0  0  0]\n",
      " [ 0  0  0  0  0  0  0  0  0  0  0  0  0  0  0  0  0  0 84  0  0  0]\n",
      " [ 0  0  0  0  0  0  0  0  0  0  0  0  0  0  0  0  0  0  0 71  0  0]\n",
      " [ 0  0  0  0  0  0  0  0  0  0  0  0  0  0  0  0  0  0  0  0 81  0]\n",
      " [ 0  0  0  0  0  0  0  0  0  0  0  0  0  0  0  0  0  0  0  0  0 80]]\n",
      "Accuracy : 1.0\n"
     ]
    }
   ],
   "source": [
    "print('Training Data Metrics :\\nConfusion Matrix :')\n",
    "print(confusion_matrix(ytrain, rfc.predict(xtrain)))\n",
    "print('Accuracy :', accuracy_score(ytrain, rfc.predict(xtrain)))"
   ]
  },
  {
   "cell_type": "code",
   "execution_count": 15,
   "metadata": {},
   "outputs": [
    {
     "name": "stdout",
     "output_type": "stream",
     "text": [
      "Testing Data Metrics :\n",
      "Confusion Matrix :\n",
      "[[23  0  0  0  0  0  0  0  0  0  0  0  0  0  0  0  0  0  0  0  0  0]\n",
      " [ 0 19  0  0  0  0  0  0  0  0  0  0  0  0  0  0  0  0  0  0  0  0]\n",
      " [ 0  0 19  0  0  0  0  0  0  0  0  0  0  0  0  0  0  0  0  0  0  0]\n",
      " [ 0  0  0 18  0  0  0  0  0  0  0  0  0  0  0  0  0  0  0  0  0  0]\n",
      " [ 0  0  0  0 16  0  0  0  0  0  0  0  0  0  0  0  0  0  0  0  0  0]\n",
      " [ 0  0  0  0  0 23  0  0  0  0  0  0  0  0  0  0  0  0  0  0  0  0]\n",
      " [ 0  0  0  0  0  0 21  0  0  0  0  0  0  0  0  0  0  0  0  0  0  0]\n",
      " [ 0  0  0  0  0  0  0 30  0  0  0  0  0  0  0  0  0  0  0  0  0  0]\n",
      " [ 0  0  0  0  0  0  0  0 16  0  0  0  0  0  0  0  0  0  0  0  0  0]\n",
      " [ 0  0  0  0  0  0  0  0  0 20  0  0  0  0  0  0  0  0  0  0  0  0]\n",
      " [ 0  0  0  0  0  0  0  0  0  0 10  0  0  0  0  0  0  0  0  0  0  0]\n",
      " [ 0  0  0  0  0  0  1  0  0  0  0 21  0  0  0  0  0  0  0  0  0  0]\n",
      " [ 0  0  0  0  0  0  0  0  0  0  0  0 19  0  0  0  0  0  0  0  0  0]\n",
      " [ 0  0  0  0  0  0  0  0  0  0  0  0  0 20  0  0  0  0  0  0  0  0]\n",
      " [ 0  0  0  0  0  0  0  0  0  0  0  0  0  0 13  0  0  0  0  0  0  0]\n",
      " [ 0  0  0  0  0  0  0  0  0  0  0  0  0  0  0 17  0  0  0  0  0  0]\n",
      " [ 0  0  0  0  0  0  0  0  0  0  0  0  0  0  0  0 17  0  0  0  0  0]\n",
      " [ 0  0  0  0  0  0  0  0  0  0  0  0  0  0  0  0  0 21  0  0  0  0]\n",
      " [ 0  0  0  0  0  0  0  0  0  0  0  0  0  0  0  0  0  0 12  0  0  0]\n",
      " [ 0  0  0  0  0  0  0  0  0  0  0  0  0  0  0  0  0  0  0 24  0  0]\n",
      " [ 0  0  0  0  0  0  0  0  1  0  0  0  0  0  0  0  0  0  0  0 18  0]\n",
      " [ 0  0  0  0  0  0  0  0  0  0  0  0  0  0  0  0  0  0  0  0  0 17]]\n",
      "Accuracy : 0.9951923076923077\n"
     ]
    }
   ],
   "source": [
    "print('Testing Data Metrics :\\nConfusion Matrix :')\n",
    "print(confusion_matrix(ytest, rfc.predict(xtest)))\n",
    "print('Accuracy :', accuracy_score(ytest, rfc.predict(xtest)))"
   ]
  },
  {
   "cell_type": "code",
   "execution_count": 17,
   "metadata": {},
   "outputs": [
    {
     "name": "stdout",
     "output_type": "stream",
     "text": [
      "Crop : coffee\n",
      "Yield :  4 to 7 quintals per hectare\n",
      "Watering : 1200 to 1800 mm per year\n",
      "Pesticide : White stem borer, coffee berry borer, Shoot hole borer, MALATHION 50% E.C\n"
     ]
    }
   ],
   "source": [
    "# Random Forest Classifier Inputs\n",
    "\n",
    "n = int(input('Enter N Value : '))\n",
    "p = float(input('Enter P Value : '))\n",
    "k = float(input('Enter K Value : '))\n",
    "temp = float(input('Enter temperature : '))\n",
    "humidity = float(input('Enter humidity : '))\n",
    "ph = float(input('Enter ph : '))\n",
    "rain = float(input('Enter rainfall : '))\n",
    "\n",
    "inp = np.array([n, p, k, temp, humidity, ph, rain]).reshape(-1, 7)\n",
    "output = rfc.predict(inp)[0]\n",
    "print('Crop :', output)\n",
    "print('Yield :', crops[output][0])\n",
    "print('Watering :', crops[output][1])\n",
    "print('Pesticide :', crops[output][2])"
   ]
  },
  {
   "cell_type": "code",
   "execution_count": 18,
   "metadata": {},
   "outputs": [],
   "source": [
    "svc = SVC()\n",
    "svc.fit(xtrain, ytrain)\n",
    "f = open('supportVectorClassifier.pkl', 'wb')\n",
    "pickle.dump(svc, f)\n",
    "f.close()"
   ]
  },
  {
   "cell_type": "code",
   "execution_count": 19,
   "metadata": {},
   "outputs": [
    {
     "name": "stdout",
     "output_type": "stream",
     "text": [
      "Training Data Metrics :\n",
      "Confusion Matrix :\n",
      "[[73  0  0  0  0  0  0  0  0  0  0  0  0  0  0  0  0  0  0  0  0  0]\n",
      " [ 0 81  0  0  0  0  0  0  0  0  0  0  0  0  0  0  0  0  0  0  0  0]\n",
      " [ 0  0 71  0  0  0  0  0  0  0  0  0  0  0  0  0  0  0  0  0  0  0]\n",
      " [ 0  0  0 75  0  0  0  0  0  0  0  0  0  0  0  0  0  0  0  0  0  0]\n",
      " [ 0  0  0  0 79  0  0  0  0  0  0  0  0  0  0  0  0  0  0  0  0  0]\n",
      " [ 0  0  0  0  0 67  0  0  0  0  0  0  0  0  0  0  0  0  0  0  0  0]\n",
      " [ 0  0  0  0  0  0 73  0  0  0  0  0  0  0  0  0  0  0  0  0  0  0]\n",
      " [ 0  0  0  0  0  0  0 66  0  0  0  0  0  0  0  0  0  0  0  0  0  0]\n",
      " [ 0  0  0  0  0  0  0  0 76  0  0  0  0  0  0  0  0  0  0  0  0  0]\n",
      " [ 0  0  0  0  0  0  0  0  0 72  0  0  0  0  0  0  0  0  0  0  0  0]\n",
      " [ 0  0  0  0  0  0  0  0  0  0 78  0  0  1  0  0  0  0  0  0  0  0]\n",
      " [ 0  0  0  0  0  0  1  0  0  0  0 73  0  0  0  0  0  0  0  0  0  0]\n",
      " [ 0  0  0  0  0  0  0  0  0  0  0  0 80  0  0  0  0  0  0  0  0  0]\n",
      " [ 0  0  2  0  0  0  0  0  0  0  5  0  0 63  0  0  0  0  0  0  0  0]\n",
      " [ 0  0  0  0  0  0  0  0  0  0  0  0  0  0 76  0  0  0  0  0  0  0]\n",
      " [ 0  0  0  0  0  0  0  0  0  0  0  0  0  0  0 79  0  0  0  0  0  0]\n",
      " [ 0  0  0  0  0  0  0  0  0  0  0  0  0  0  0  0 81  0  0  0  0  0]\n",
      " [ 0  0  0  0  0  0  0  0  0  0  0  0  0  0  0  0  0 75  0  0  0  0]\n",
      " [ 0  0  1  0  0  0  0  0  0  6  0  0  0  0  0  0  0  0 77  0  0  0]\n",
      " [ 0  0  0  0  0  0  0  0  0  0  0  0  0  0  0  0  0  0  0 71  0  0]\n",
      " [ 0  0  0  0  0  0  0  0 21  0  0  0  0  0  0  0  0  0  0  0 60  0]\n",
      " [ 0  0  0  0  0  0  0  0  0  0  0  0  0  0  0  0  0  0  0  0  0 80]]\n",
      "Accuracy : 0.9777510523150932\n"
     ]
    }
   ],
   "source": [
    "print('Training Data Metrics :\\nConfusion Matrix :')\n",
    "print(confusion_matrix(ytrain, svc.predict(xtrain)))\n",
    "print('Accuracy :', accuracy_score(ytrain, svc.predict(xtrain)))"
   ]
  },
  {
   "cell_type": "code",
   "execution_count": 20,
   "metadata": {},
   "outputs": [
    {
     "name": "stdout",
     "output_type": "stream",
     "text": [
      "Testing Data Metrics :\n",
      "Confusion Matrix :\n",
      "[[23  0  0  0  0  0  0  0  0  0  0  0  0  0  0  0  0  0  0  0  0  0]\n",
      " [ 0 19  0  0  0  0  0  0  0  0  0  0  0  0  0  0  0  0  0  0  0  0]\n",
      " [ 0  0 19  0  0  0  0  0  0  0  0  0  0  0  0  0  0  0  0  0  0  0]\n",
      " [ 0  0  0 18  0  0  0  0  0  0  0  0  0  0  0  0  0  0  0  0  0  0]\n",
      " [ 0  0  0  0 16  0  0  0  0  0  0  0  0  0  0  0  0  0  0  0  0  0]\n",
      " [ 0  0  0  0  0 22  0  0  1  0  0  0  0  0  0  0  0  0  0  0  0  0]\n",
      " [ 0  0  0  0  0  0 21  0  0  0  0  0  0  0  0  0  0  0  0  0  0  0]\n",
      " [ 0  0  0  0  0  0  0 30  0  0  0  0  0  0  0  0  0  0  0  0  0  0]\n",
      " [ 0  0  0  0  0  0  0  0 16  0  0  0  0  0  0  0  0  0  0  0  0  0]\n",
      " [ 0  0  0  0  0  0  0  0  0 20  0  0  0  0  0  0  0  0  0  0  0  0]\n",
      " [ 0  0  0  0  0  0  0  0  0  0 10  0  0  0  0  0  0  0  0  0  0  0]\n",
      " [ 0  0  0  0  0  0  2  0  0  0  0 20  0  0  0  0  0  0  0  0  0  0]\n",
      " [ 0  0  0  0  0  0  0  0  0  0  0  0 19  0  0  0  0  0  0  0  0  0]\n",
      " [ 0  0  0  0  0  0  0  0  0  0  1  0  0 19  0  0  0  0  0  0  0  0]\n",
      " [ 0  0  0  0  0  0  0  0  0  0  0  0  0  0 13  0  0  0  0  0  0  0]\n",
      " [ 0  0  0  0  0  0  0  0  0  0  0  0  0  0  0 17  0  0  0  0  0  0]\n",
      " [ 0  0  0  0  0  0  0  0  0  0  0  0  0  0  0  0 17  0  0  0  0  0]\n",
      " [ 0  0  0  0  0  0  0  0  0  0  0  0  0  0  0  0  0 20  0  0  1  0]\n",
      " [ 0  0  1  0  0  0  0  0  0  2  0  0  0  0  0  0  0  0  9  0  0  0]\n",
      " [ 0  0  0  0  0  0  0  0  0  0  0  0  0  0  0  0  0  0  0 24  0  0]\n",
      " [ 0  0  0  0  0  0  0  0  3  0  0  0  0  0  0  0  0  0  0  0 16  0]\n",
      " [ 0  0  0  0  0  0  0  0  0  0  0  0  0  0  0  0  0  0  0  0  0 17]]\n",
      "Accuracy : 0.9735576923076923\n"
     ]
    }
   ],
   "source": [
    "print('Testing Data Metrics :\\nConfusion Matrix :')\n",
    "print(confusion_matrix(ytest, svc.predict(xtest)))\n",
    "print('Accuracy :', accuracy_score(ytest, svc.predict(xtest)))"
   ]
  },
  {
   "cell_type": "code",
   "execution_count": 21,
   "metadata": {},
   "outputs": [
    {
     "name": "stdout",
     "output_type": "stream",
     "text": [
      "Crop : jute\n",
      "Yield : 45 to 50 tonnes per hectare\n",
      "Watering : 500 mm for the total crop period with an interval of 15 days\n",
      "Pesticide : Carbofuran 03.00% CG, Phosalone 35.00% EC, Quinalphos 25.00% EC\n"
     ]
    }
   ],
   "source": [
    "# Support Vector Classifier Inputs\n",
    "\n",
    "n = int(input('Enter N Value : '))\n",
    "p = float(input('Enter P Value : '))\n",
    "k = float(input('Enter K Value : '))\n",
    "temp = float(input('Enter temperature : '))\n",
    "humidity = float(input('Enter humidity : '))\n",
    "ph = float(input('Enter ph : '))\n",
    "rain = float(input('Enter rainfall : '))\n",
    "\n",
    "inp = np.array([n, p, k, temp, humidity, ph, rain]).reshape(-1, 7)\n",
    "output = svc.predict(inp)[0]\n",
    "print('Crop :', output)\n",
    "print('Yield :', crops[output][0])\n",
    "print('Watering :', crops[output][1])\n",
    "print('Pesticide :', crops[output][2])"
   ]
  }
 ],
 "metadata": {
  "kernelspec": {
   "display_name": "Python 3",
   "language": "python",
   "name": "python3"
  },
  "language_info": {
   "codemirror_mode": {
    "name": "ipython",
    "version": 3
   },
   "file_extension": ".py",
   "mimetype": "text/x-python",
   "name": "python",
   "nbconvert_exporter": "python",
   "pygments_lexer": "ipython3",
   "version": "3.9.10"
  },
  "orig_nbformat": 4,
  "vscode": {
   "interpreter": {
    "hash": "df13f10ace87b946fd57f957f4f2f2ab7ca87e3da9ec89264fcaface418ff5c7"
   }
  }
 },
 "nbformat": 4,
 "nbformat_minor": 2
}
